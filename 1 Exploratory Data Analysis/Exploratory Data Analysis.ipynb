{
  "nbformat": 4,
  "nbformat_minor": 0,
  "metadata": {
    "kernelspec": {
      "name": "python3",
      "display_name": "Python 3.6.5 64-bit ('base': conda)"
    },
    "language_info": {
      "codemirror_mode": {
        "name": "ipython",
        "version": 3
      },
      "file_extension": ".py",
      "mimetype": "text/x-python",
      "name": "python",
      "nbconvert_exporter": "python",
      "pygments_lexer": "ipython3",
      "version": "3.6.5"
    },
    "colab": {
      "name": "Instagram Friend Recommendation EDA.ipynb",
      "provenance": [],
      "collapsed_sections": [
        "QirDnZ-FX7I8",
        "F_rfNRYCX7Jx",
        "J7tiBqS3X7Kh"
      ]
    },
    "interpreter": {
      "hash": "30fcbf030ddeac3cf2c21b035504007673aab5c55395612ce6bddd5277f642de"
    }
  },
  "cells": [
    {
      "cell_type": "code",
      "execution_count": 1,
      "source": [
        "# Importing Libraries \n",
        "import warnings\n",
        "warnings.filterwarnings(\"ignore\")\n",
        "\n",
        "import csv\n",
        "import pandas as pd # pandas to create small dataframes \n",
        "import datetime     # Convert to unix time\n",
        "import time #Convert to unix time\n",
        "# if numpy is not installed already : pip3 install numpy\n",
        "import numpy as np #Do aritmetic operations on arrays\n",
        "# matplotlib: used to plot graphs\n",
        "import matplotlib\n",
        "import matplotlib.pylab as plt\n",
        "import seaborn as sns #Plots\n",
        "from matplotlib import rcParams #Size of plots  \n",
        "from sklearn.cluster import MiniBatchKMeans, KMeans #Clustering\n",
        "import math\n",
        "import pickle\n",
        "import os\n",
        "# to install xgboost: pip3 install xgboost\n",
        "import xgboost as xgb\n",
        "\n",
        "import warnings\n",
        "import pdb\n",
        "import pickle"
      ],
      "outputs": [],
      "metadata": {
        "id": "jGe4BKx9X7Im"
      }
    },
    {
      "cell_type": "code",
      "source": [
        "import networkx as nx"
      ],
      "metadata": {
        "id": "HNOHsX6R1w6K"
      },
      "execution_count": 2,
      "outputs": []
    },
    {
      "cell_type": "code",
      "execution_count": 3,
      "source": [
        "%%time\n",
        "from google.colab import drive\n",
        "drive.mount('/content/drive')"
      ],
      "outputs": [
        {
          "output_type": "stream",
          "name": "stdout",
          "text": [
            "Drive already mounted at /content/drive; to attempt to forcibly remount, call drive.mount(\"/content/drive\", force_remount=True).\n",
            "CPU times: user 42.6 ms, sys: 9.84 ms, total: 52.5 ms\n",
            "Wall time: 3.76 s\n"
          ]
        }
      ],
      "metadata": {
        "colab": {
          "base_uri": "https://localhost:8080/"
        },
        "id": "sgwy6uCPOx4p",
        "outputId": "38e6b911-a6c2-42fa-bf75-0de5bc9d1dd1"
      }
    },
    {
      "cell_type": "code",
      "source": [
        "traincsv = pd.read_csv('/content/drive/MyDrive/Case Studies/Facebook/data/train.csv') # loading the data\n",
        "\n",
        "traincsv.head()"
      ],
      "metadata": {
        "id": "TQG3A22izS_m",
        "outputId": "dd5d8e73-285d-456a-df93-f3005481fccc",
        "colab": {
          "base_uri": "https://localhost:8080/",
          "height": 206
        }
      },
      "execution_count": 4,
      "outputs": [
        {
          "output_type": "execute_result",
          "data": {
            "text/html": [
              "\n",
              "  <div id=\"df-00eee10b-40b3-42db-bc1c-8e8bca6a4322\">\n",
              "    <div class=\"colab-df-container\">\n",
              "      <div>\n",
              "<style scoped>\n",
              "    .dataframe tbody tr th:only-of-type {\n",
              "        vertical-align: middle;\n",
              "    }\n",
              "\n",
              "    .dataframe tbody tr th {\n",
              "        vertical-align: top;\n",
              "    }\n",
              "\n",
              "    .dataframe thead th {\n",
              "        text-align: right;\n",
              "    }\n",
              "</style>\n",
              "<table border=\"1\" class=\"dataframe\">\n",
              "  <thead>\n",
              "    <tr style=\"text-align: right;\">\n",
              "      <th></th>\n",
              "      <th>source_node</th>\n",
              "      <th>destination_node</th>\n",
              "    </tr>\n",
              "  </thead>\n",
              "  <tbody>\n",
              "    <tr>\n",
              "      <th>0</th>\n",
              "      <td>1</td>\n",
              "      <td>690569</td>\n",
              "    </tr>\n",
              "    <tr>\n",
              "      <th>1</th>\n",
              "      <td>1</td>\n",
              "      <td>315892</td>\n",
              "    </tr>\n",
              "    <tr>\n",
              "      <th>2</th>\n",
              "      <td>1</td>\n",
              "      <td>189226</td>\n",
              "    </tr>\n",
              "    <tr>\n",
              "      <th>3</th>\n",
              "      <td>2</td>\n",
              "      <td>834328</td>\n",
              "    </tr>\n",
              "    <tr>\n",
              "      <th>4</th>\n",
              "      <td>2</td>\n",
              "      <td>1615927</td>\n",
              "    </tr>\n",
              "  </tbody>\n",
              "</table>\n",
              "</div>\n",
              "      <button class=\"colab-df-convert\" onclick=\"convertToInteractive('df-00eee10b-40b3-42db-bc1c-8e8bca6a4322')\"\n",
              "              title=\"Convert this dataframe to an interactive table.\"\n",
              "              style=\"display:none;\">\n",
              "        \n",
              "  <svg xmlns=\"http://www.w3.org/2000/svg\" height=\"24px\"viewBox=\"0 0 24 24\"\n",
              "       width=\"24px\">\n",
              "    <path d=\"M0 0h24v24H0V0z\" fill=\"none\"/>\n",
              "    <path d=\"M18.56 5.44l.94 2.06.94-2.06 2.06-.94-2.06-.94-.94-2.06-.94 2.06-2.06.94zm-11 1L8.5 8.5l.94-2.06 2.06-.94-2.06-.94L8.5 2.5l-.94 2.06-2.06.94zm10 10l.94 2.06.94-2.06 2.06-.94-2.06-.94-.94-2.06-.94 2.06-2.06.94z\"/><path d=\"M17.41 7.96l-1.37-1.37c-.4-.4-.92-.59-1.43-.59-.52 0-1.04.2-1.43.59L10.3 9.45l-7.72 7.72c-.78.78-.78 2.05 0 2.83L4 21.41c.39.39.9.59 1.41.59.51 0 1.02-.2 1.41-.59l7.78-7.78 2.81-2.81c.8-.78.8-2.07 0-2.86zM5.41 20L4 18.59l7.72-7.72 1.47 1.35L5.41 20z\"/>\n",
              "  </svg>\n",
              "      </button>\n",
              "      \n",
              "  <style>\n",
              "    .colab-df-container {\n",
              "      display:flex;\n",
              "      flex-wrap:wrap;\n",
              "      gap: 12px;\n",
              "    }\n",
              "\n",
              "    .colab-df-convert {\n",
              "      background-color: #E8F0FE;\n",
              "      border: none;\n",
              "      border-radius: 50%;\n",
              "      cursor: pointer;\n",
              "      display: none;\n",
              "      fill: #1967D2;\n",
              "      height: 32px;\n",
              "      padding: 0 0 0 0;\n",
              "      width: 32px;\n",
              "    }\n",
              "\n",
              "    .colab-df-convert:hover {\n",
              "      background-color: #E2EBFA;\n",
              "      box-shadow: 0px 1px 2px rgba(60, 64, 67, 0.3), 0px 1px 3px 1px rgba(60, 64, 67, 0.15);\n",
              "      fill: #174EA6;\n",
              "    }\n",
              "\n",
              "    [theme=dark] .colab-df-convert {\n",
              "      background-color: #3B4455;\n",
              "      fill: #D2E3FC;\n",
              "    }\n",
              "\n",
              "    [theme=dark] .colab-df-convert:hover {\n",
              "      background-color: #434B5C;\n",
              "      box-shadow: 0px 1px 3px 1px rgba(0, 0, 0, 0.15);\n",
              "      filter: drop-shadow(0px 1px 2px rgba(0, 0, 0, 0.3));\n",
              "      fill: #FFFFFF;\n",
              "    }\n",
              "  </style>\n",
              "\n",
              "      <script>\n",
              "        const buttonEl =\n",
              "          document.querySelector('#df-00eee10b-40b3-42db-bc1c-8e8bca6a4322 button.colab-df-convert');\n",
              "        buttonEl.style.display =\n",
              "          google.colab.kernel.accessAllowed ? 'block' : 'none';\n",
              "\n",
              "        async function convertToInteractive(key) {\n",
              "          const element = document.querySelector('#df-00eee10b-40b3-42db-bc1c-8e8bca6a4322');\n",
              "          const dataTable =\n",
              "            await google.colab.kernel.invokeFunction('convertToInteractive',\n",
              "                                                     [key], {});\n",
              "          if (!dataTable) return;\n",
              "\n",
              "          const docLinkHtml = 'Like what you see? Visit the ' +\n",
              "            '<a target=\"_blank\" href=https://colab.research.google.com/notebooks/data_table.ipynb>data table notebook</a>'\n",
              "            + ' to learn more about interactive tables.';\n",
              "          element.innerHTML = '';\n",
              "          dataTable['output_type'] = 'display_data';\n",
              "          await google.colab.output.renderOutput(dataTable, element);\n",
              "          const docLink = document.createElement('div');\n",
              "          docLink.innerHTML = docLinkHtml;\n",
              "          element.appendChild(docLink);\n",
              "        }\n",
              "      </script>\n",
              "    </div>\n",
              "  </div>\n",
              "  "
            ],
            "text/plain": [
              "   source_node  destination_node\n",
              "0            1            690569\n",
              "1            1            315892\n",
              "2            1            189226\n",
              "3            2            834328\n",
              "4            2           1615927"
            ]
          },
          "metadata": {},
          "execution_count": 4
        }
      ]
    },
    {
      "cell_type": "markdown",
      "source": [
        "https://pandas.pydata.org/docs/reference/api/pandas.DataFrame.isna.html \n",
        "\n",
        "* returns Datframe of same size in form of True and False \n",
        "\n",
        "\n",
        "https://pandas.pydata.org/docs/reference/api/pandas.DataFrame.any.html \n",
        "\n",
        "* Return whether any element is True, potentially over an axis"
      ],
      "metadata": {
        "id": "fnGtlrzs0N6L"
      }
    },
    {
      "cell_type": "code",
      "source": [
        "print(traincsv.info())\n",
        "print(\"NAN values -->\",traincsv[traincsv.isna().any(1)]) # checking for nan values along column,like whole row then next row and then next.\n",
        "\n",
        "print(\"Number of duplicate entries: \",sum(traincsv.duplicated())) "
      ],
      "metadata": {
        "id": "elhzLpqjzkEb",
        "outputId": "9992dea7-516b-4d1b-f6ef-4cc3d5f67280",
        "colab": {
          "base_uri": "https://localhost:8080/"
        }
      },
      "execution_count": 5,
      "outputs": [
        {
          "output_type": "stream",
          "name": "stdout",
          "text": [
            "<class 'pandas.core.frame.DataFrame'>\n",
            "RangeIndex: 9437519 entries, 0 to 9437518\n",
            "Data columns (total 2 columns):\n",
            " #   Column            Dtype\n",
            "---  ------            -----\n",
            " 0   source_node       int64\n",
            " 1   destination_node  int64\n",
            "dtypes: int64(2)\n",
            "memory usage: 144.0 MB\n",
            "None\n",
            "NAN values --> Empty DataFrame\n",
            "Columns: [source_node, destination_node]\n",
            "Index: []\n",
            "Number of duplicate entries:  0\n"
          ]
        }
      ]
    },
    {
      "cell_type": "markdown",
      "source": [
        "* No NAN values and duplicate entries are present"
      ],
      "metadata": {
        "id": "zu_MDYXg4YFG"
      }
    },
    {
      "cell_type": "code",
      "execution_count": 5,
      "source": [
        "%%time \n",
        "\n",
        "# will take around 1 min 13 sec.\n",
        "# reading graph\n",
        "\n",
        "if not os.path.isfile('/content/drive/MyDrive/Case Studies/Facebook/data/after_eda/train_woheader.csv'): # woheader means without header.\n",
        "\n",
        "    traincsv.to_csv('/content/drive/MyDrive/Case Studies/Facebook/data/after_eda/train_woheader.csv',header = False,index = False)\n",
        "\n",
        "    print(\"saved the graph into file\") # saving without header so that we can read it using edglist and it requires only list of edges.\n",
        "\n",
        "else:\n",
        "    \n",
        "    g = nx.read_edgelist('/content/drive/MyDrive/Case Studies/Facebook/data/after_eda/train_woheader.csv',delimiter=',',create_using=nx.DiGraph(),nodetype=int)\n"
      ],
      "outputs": [
        {
          "output_type": "stream",
          "name": "stdout",
          "text": [
            "CPU times: user 1min 5s, sys: 2.71 s, total: 1min 8s\n",
            "Wall time: 1min 8s\n"
          ]
        }
      ],
      "metadata": {
        "id": "OOi4aONAX7Iv",
        "colab": {
          "base_uri": "https://localhost:8080/"
        },
        "outputId": "c1c520c4-b0b6-4ca4-b50a-9a30a7815c5b"
      }
    },
    {
      "cell_type": "code",
      "source": [
        "print(nx.info(g))"
      ],
      "metadata": {
        "id": "6uTWMTRNNqUV",
        "outputId": "fd51f0d2-476f-464a-a691-db081efaca4b",
        "colab": {
          "base_uri": "https://localhost:8080/"
        }
      },
      "execution_count": 7,
      "outputs": [
        {
          "output_type": "stream",
          "name": "stdout",
          "text": [
            "DiGraph with 1862220 nodes and 9437519 edges\n"
          ]
        }
      ]
    },
    {
      "cell_type": "code",
      "source": [
        "data = pd.read_csv('/content/drive/MyDrive/Case Studies/Facebook/data/after_eda/train_woheader.csv')\n",
        "\n",
        "data.head() # let's see how DataFrame would look like without Header and Index"
      ],
      "metadata": {
        "id": "cHx0m_UbDXgk",
        "outputId": "e3de332a-a314-40be-b4cb-f5d470fa43ad",
        "colab": {
          "base_uri": "https://localhost:8080/",
          "height": 206
        }
      },
      "execution_count": 8,
      "outputs": [
        {
          "output_type": "execute_result",
          "data": {
            "text/html": [
              "\n",
              "  <div id=\"df-440a6555-8bd3-4f08-9d53-ba6f4341aa89\">\n",
              "    <div class=\"colab-df-container\">\n",
              "      <div>\n",
              "<style scoped>\n",
              "    .dataframe tbody tr th:only-of-type {\n",
              "        vertical-align: middle;\n",
              "    }\n",
              "\n",
              "    .dataframe tbody tr th {\n",
              "        vertical-align: top;\n",
              "    }\n",
              "\n",
              "    .dataframe thead th {\n",
              "        text-align: right;\n",
              "    }\n",
              "</style>\n",
              "<table border=\"1\" class=\"dataframe\">\n",
              "  <thead>\n",
              "    <tr style=\"text-align: right;\">\n",
              "      <th></th>\n",
              "      <th>1</th>\n",
              "      <th>690569</th>\n",
              "    </tr>\n",
              "  </thead>\n",
              "  <tbody>\n",
              "    <tr>\n",
              "      <th>0</th>\n",
              "      <td>1</td>\n",
              "      <td>315892</td>\n",
              "    </tr>\n",
              "    <tr>\n",
              "      <th>1</th>\n",
              "      <td>1</td>\n",
              "      <td>189226</td>\n",
              "    </tr>\n",
              "    <tr>\n",
              "      <th>2</th>\n",
              "      <td>2</td>\n",
              "      <td>834328</td>\n",
              "    </tr>\n",
              "    <tr>\n",
              "      <th>3</th>\n",
              "      <td>2</td>\n",
              "      <td>1615927</td>\n",
              "    </tr>\n",
              "    <tr>\n",
              "      <th>4</th>\n",
              "      <td>2</td>\n",
              "      <td>1194519</td>\n",
              "    </tr>\n",
              "  </tbody>\n",
              "</table>\n",
              "</div>\n",
              "      <button class=\"colab-df-convert\" onclick=\"convertToInteractive('df-440a6555-8bd3-4f08-9d53-ba6f4341aa89')\"\n",
              "              title=\"Convert this dataframe to an interactive table.\"\n",
              "              style=\"display:none;\">\n",
              "        \n",
              "  <svg xmlns=\"http://www.w3.org/2000/svg\" height=\"24px\"viewBox=\"0 0 24 24\"\n",
              "       width=\"24px\">\n",
              "    <path d=\"M0 0h24v24H0V0z\" fill=\"none\"/>\n",
              "    <path d=\"M18.56 5.44l.94 2.06.94-2.06 2.06-.94-2.06-.94-.94-2.06-.94 2.06-2.06.94zm-11 1L8.5 8.5l.94-2.06 2.06-.94-2.06-.94L8.5 2.5l-.94 2.06-2.06.94zm10 10l.94 2.06.94-2.06 2.06-.94-2.06-.94-.94-2.06-.94 2.06-2.06.94z\"/><path d=\"M17.41 7.96l-1.37-1.37c-.4-.4-.92-.59-1.43-.59-.52 0-1.04.2-1.43.59L10.3 9.45l-7.72 7.72c-.78.78-.78 2.05 0 2.83L4 21.41c.39.39.9.59 1.41.59.51 0 1.02-.2 1.41-.59l7.78-7.78 2.81-2.81c.8-.78.8-2.07 0-2.86zM5.41 20L4 18.59l7.72-7.72 1.47 1.35L5.41 20z\"/>\n",
              "  </svg>\n",
              "      </button>\n",
              "      \n",
              "  <style>\n",
              "    .colab-df-container {\n",
              "      display:flex;\n",
              "      flex-wrap:wrap;\n",
              "      gap: 12px;\n",
              "    }\n",
              "\n",
              "    .colab-df-convert {\n",
              "      background-color: #E8F0FE;\n",
              "      border: none;\n",
              "      border-radius: 50%;\n",
              "      cursor: pointer;\n",
              "      display: none;\n",
              "      fill: #1967D2;\n",
              "      height: 32px;\n",
              "      padding: 0 0 0 0;\n",
              "      width: 32px;\n",
              "    }\n",
              "\n",
              "    .colab-df-convert:hover {\n",
              "      background-color: #E2EBFA;\n",
              "      box-shadow: 0px 1px 2px rgba(60, 64, 67, 0.3), 0px 1px 3px 1px rgba(60, 64, 67, 0.15);\n",
              "      fill: #174EA6;\n",
              "    }\n",
              "\n",
              "    [theme=dark] .colab-df-convert {\n",
              "      background-color: #3B4455;\n",
              "      fill: #D2E3FC;\n",
              "    }\n",
              "\n",
              "    [theme=dark] .colab-df-convert:hover {\n",
              "      background-color: #434B5C;\n",
              "      box-shadow: 0px 1px 3px 1px rgba(0, 0, 0, 0.15);\n",
              "      filter: drop-shadow(0px 1px 2px rgba(0, 0, 0, 0.3));\n",
              "      fill: #FFFFFF;\n",
              "    }\n",
              "  </style>\n",
              "\n",
              "      <script>\n",
              "        const buttonEl =\n",
              "          document.querySelector('#df-440a6555-8bd3-4f08-9d53-ba6f4341aa89 button.colab-df-convert');\n",
              "        buttonEl.style.display =\n",
              "          google.colab.kernel.accessAllowed ? 'block' : 'none';\n",
              "\n",
              "        async function convertToInteractive(key) {\n",
              "          const element = document.querySelector('#df-440a6555-8bd3-4f08-9d53-ba6f4341aa89');\n",
              "          const dataTable =\n",
              "            await google.colab.kernel.invokeFunction('convertToInteractive',\n",
              "                                                     [key], {});\n",
              "          if (!dataTable) return;\n",
              "\n",
              "          const docLinkHtml = 'Like what you see? Visit the ' +\n",
              "            '<a target=\"_blank\" href=https://colab.research.google.com/notebooks/data_table.ipynb>data table notebook</a>'\n",
              "            + ' to learn more about interactive tables.';\n",
              "          element.innerHTML = '';\n",
              "          dataTable['output_type'] = 'display_data';\n",
              "          await google.colab.output.renderOutput(dataTable, element);\n",
              "          const docLink = document.createElement('div');\n",
              "          docLink.innerHTML = docLinkHtml;\n",
              "          element.appendChild(docLink);\n",
              "        }\n",
              "      </script>\n",
              "    </div>\n",
              "  </div>\n",
              "  "
            ],
            "text/plain": [
              "   1   690569\n",
              "0  1   315892\n",
              "1  1   189226\n",
              "2  2   834328\n",
              "3  2  1615927\n",
              "4  2  1194519"
            ]
          },
          "metadata": {},
          "execution_count": 8
        }
      ]
    },
    {
      "cell_type": "markdown",
      "source": [
        "> Displaying a sub graph"
      ],
      "metadata": {
        "id": "ba1XVmouX7I2"
      }
    },
    {
      "cell_type": "markdown",
      "source": [
        "https://networkx.org/documentation/stable/reference/readwrite/generated/networkx.readwrite.edgelist.read_edgelist.html"
      ],
      "metadata": {
        "id": "YD-rRuoETnWx"
      }
    },
    {
      "cell_type": "code",
      "execution_count": 9,
      "source": [
        "if not os.path.isfile('/content/drive/MyDrive/Data sets/train_woheader_sample.csv'):\n",
        "\n",
        "    sample = pd.read_csv('/content/drive/MyDrive/Case Studies/Facebook/data/after_eda/train_woheader.csv', nrows = 50)\n",
        "    \n",
        "    sample.to_csv('/content/drive/MyDrive/Data sets/train_woheader_sample.csv',header = False,index = False) # saving 50 sample of edges without header\n",
        "    subsample = pd.read_csv('/content/drive/MyDrive/Data sets/train_woheader_sample.csv')\n",
        "\n",
        "    print(subsample.head())"
      ],
      "outputs": [],
      "metadata": {
        "id": "rvhGErEXX7I3"
      }
    },
    {
      "cell_type": "code",
      "source": [
        "subgraph = nx.read_edgelist('/content/drive/MyDrive/Data sets/train_woheader_sample.csv',create_using = nx.DiGraph(),nodetype = int) \n",
        "\n",
        "print( nx.info(subgraph) )"
      ],
      "metadata": {
        "id": "p77O1AR4GvJl",
        "outputId": "076e830d-437f-4b70-faa9-23215d4bbc32",
        "colab": {
          "base_uri": "https://localhost:8080/"
        }
      },
      "execution_count": 10,
      "outputs": [
        {
          "output_type": "stream",
          "name": "stdout",
          "text": [
            "DiGraph with 0 nodes and 0 edges\n"
          ]
        }
      ]
    },
    {
      "cell_type": "markdown",
      "source": [
        "* This happens because we stores edges in CSV files so and as the name suggest comma separated values Hence delimiter \",\" should be used for correct loading of the edges."
      ],
      "metadata": {
        "id": "K5jgya9THUZz"
      }
    },
    {
      "cell_type": "code",
      "source": [
        "# creating a small subgraph.\n",
        "\n",
        "subgraph = nx.read_edgelist('/content/drive/MyDrive/Data sets/train_woheader_sample.csv',delimiter=',',create_using = nx.DiGraph(),nodetype = int) \n",
        "\n",
        "print( nx.info(subgraph) )"
      ],
      "metadata": {
        "id": "REVDbKh1E5lq",
        "outputId": "6561db90-5082-4278-d83a-536632f77a9c",
        "colab": {
          "base_uri": "https://localhost:8080/"
        }
      },
      "execution_count": 11,
      "outputs": [
        {
          "output_type": "stream",
          "name": "stdout",
          "text": [
            "DiGraph with 66 nodes and 50 edges\n"
          ]
        }
      ]
    },
    {
      "cell_type": "markdown",
      "source": [
        "\n",
        "**Fruchterman-Reingold force-directed algorithm**\n",
        "\n",
        "purpose is to position the nodes of a graph in two-dimensional or three-dimensional space so that all the edges are of more or less equal length and there are as few crossing edges as possible"
      ],
      "metadata": {
        "id": "bqpx5szuUPqT"
      }
    },
    {
      "cell_type": "code",
      "execution_count": 12,
      "source": [
        "pos = nx.spring_layout(subgraph) # Position nodes using Fruchterman-Reingold force-directed algorithm.\n",
        "\n",
        "# spring_layout returns a dictionary of positions keyed by node.\n",
        "# for node, position in pos.items():\n",
        "    # print(node,\"-->\",position)"
      ],
      "outputs": [],
      "metadata": {
        "id": "iJse5DSuUEzU"
      }
    },
    {
      "cell_type": "code",
      "execution_count": 13,
      "source": [
        "nx.draw(subgraph,pos,node_color = '#bcc2c2',edge_color = 'red',width = 2,edge_cmap = plt.cm.cool,with_labels = True,font_color = 'black',font_size = 8 )\n",
        "\n",
        "# Colormap for mapping intensities of edges."
      ],
      "outputs": [
        {
          "output_type": "display_data",
          "data": {
            "image/png": "[encoded data removed]",
            "text/plain": [
              "<Figure size 432x288 with 1 Axes>"
            ]
          },
          "metadata": {}
        }
      ],
      "metadata": {
        "colab": {
          "base_uri": "https://localhost:8080/",
          "height": 319
        },
        "id": "YQvoMKhuUm-r",
        "outputId": "3179ef8b-3dac-4bc0-aee8-eb9ecd083d97"
      }
    },
    {
      "cell_type": "markdown",
      "source": [
        "# 1. Exploratory Data Analysis"
      ],
      "metadata": {
        "id": "QirDnZ-FX7I8"
      }
    },
    {
      "cell_type": "code",
      "execution_count": 14,
      "source": [
        "# No of Unique persons \n",
        "print(\"The number of unique persons\",len(g.nodes()))\n",
        "# remeber g is contains our whole graph instead of subgrah we loaded it in the very begining ."
      ],
      "outputs": [
        {
          "output_type": "stream",
          "name": "stdout",
          "text": [
            "The number of unique persons 1862220\n"
          ]
        }
      ],
      "metadata": {
        "id": "gdlTIj97X7I9",
        "colab": {
          "base_uri": "https://localhost:8080/"
        },
        "outputId": "06ab0ce3-727f-4d80-e4f5-2d8a1d63f6c2"
      }
    },
    {
      "cell_type": "markdown",
      "source": [
        "## 1.1 No of followers for each person"
      ],
      "metadata": {
        "id": "BdvJPYMHX7JC"
      }
    },
    {
      "cell_type": "code",
      "source": [
        "print(list(subgraph.in_degree())[:3]) # printing in-degree of last threee nodes in a subgraph"
      ],
      "metadata": {
        "id": "AFHusoSGOMWU",
        "outputId": "bf07d7ac-00ad-4bda-b035-98842f7fc732",
        "colab": {
          "base_uri": "https://localhost:8080/"
        }
      },
      "execution_count": 15,
      "outputs": [
        {
          "output_type": "stream",
          "name": "stdout",
          "text": [
            "[(1, 0), (315892, 1), (189226, 1)]\n"
          ]
        }
      ]
    },
    {
      "cell_type": "code",
      "execution_count": 16,
      "source": [
        "# In-degree of a vertex/node is nothing but number of followers of a user.\n",
        "indegree_dist = list(dict(g.in_degree()).values())\n",
        "\n",
        "indegree_dist.sort() # sorting the indegree in Ascending order by def.\n",
        "\n",
        "plt.figure( figsize = (10,6) )\n",
        "plt.plot(indegree_dist)\n",
        "\n",
        "plt.xlabel('Index No')\n",
        "plt.ylabel('No Of Followers')\n",
        "\n",
        "plt.show()"
      ],
      "outputs": [
        {
          "output_type": "display_data",
          "data": {
            "image/png": "[encoded data removed]",
            "text/plain": [
              "<Figure size 720x432 with 1 Axes>"
            ]
          },
          "metadata": {
            "needs_background": "light"
          }
        }
      ],
      "metadata": {
        "id": "4fFEbqiSX7JD",
        "colab": {
          "base_uri": "https://localhost:8080/",
          "height": 388
        },
        "outputId": "6a77ea92-622f-40a4-917e-b71ad1b98d09"
      }
    },
    {
      "cell_type": "code",
      "execution_count": 17,
      "source": [
        "# let's zoom in the curve \n",
        "indegree_dist = list(dict(g.in_degree()).values())\n",
        "\n",
        "indegree_dist.sort()\n",
        "\n",
        "plt.figure(figsize=(10,6))\n",
        "plt.plot(indegree_dist[0:1500000]) # checking the In-degree till 1.5m users \n",
        "\n",
        "plt.xlabel('Index No')\n",
        "plt.ylabel('No Of Followers')\n",
        "\n",
        "plt.show()"
      ],
      "outputs": [
        {
          "output_type": "display_data",
          "data": {
            "image/png": "[encoded data removed]",
            "text/plain": [
              "<Figure size 720x432 with 1 Axes>"
            ]
          },
          "metadata": {
            "needs_background": "light"
          }
        }
      ],
      "metadata": {
        "id": "CZPczewbX7JL",
        "colab": {
          "base_uri": "https://localhost:8080/",
          "height": 388
        },
        "outputId": "7d1dee59-9a55-4253-effb-7261216a4c72"
      }
    },
    {
      "cell_type": "code",
      "execution_count": 18,
      "source": [
        "plt.boxplot(indegree_dist)\n",
        "plt.ylabel('No Of Followers')\n",
        "\n",
        "plt.show()"
      ],
      "outputs": [
        {
          "output_type": "display_data",
          "data": {
            "image/png": "[encoded data removed]",
            "text/plain": [
              "<Figure size 432x288 with 1 Axes>"
            ]
          },
          "metadata": {
            "needs_background": "light"
          }
        }
      ],
      "metadata": {
        "id": "Wqf9qkr_X7JS",
        "colab": {
          "base_uri": "https://localhost:8080/",
          "height": 265
        },
        "outputId": "5f973965-af3f-45a7-f1c1-abf9c0b14149"
      }
    },
    {
      "cell_type": "markdown",
      "source": [
        "* Box plot is showing that there are very less number of users which has followers > 500 "
      ],
      "metadata": {
        "id": "dRpVJFMCXBBB"
      }
    },
    {
      "cell_type": "code",
      "execution_count": 19,
      "source": [
        "### 90-100 percentile\n",
        "for i in range(0,11):\n",
        "    print(90+i,'percentile value is',np.percentile(indegree_dist,90+i))"
      ],
      "outputs": [
        {
          "output_type": "stream",
          "name": "stdout",
          "text": [
            "90 percentile value is 12.0\n",
            "91 percentile value is 13.0\n",
            "92 percentile value is 14.0\n",
            "93 percentile value is 15.0\n",
            "94 percentile value is 17.0\n",
            "95 percentile value is 19.0\n",
            "96 percentile value is 21.0\n",
            "97 percentile value is 24.0\n",
            "98 percentile value is 29.0\n",
            "99 percentile value is 40.0\n",
            "100 percentile value is 552.0\n"
          ]
        }
      ],
      "metadata": {
        "id": "5q9wSyvGX7JY",
        "colab": {
          "base_uri": "https://localhost:8080/"
        },
        "outputId": "408c2244-97ca-48c1-ca60-ae9ac47fa70c"
      }
    },
    {
      "cell_type": "markdown",
      "source": [
        "99% of Users have 40 followers only."
      ],
      "metadata": {
        "id": "9HvreJYlX7Jf"
      }
    },
    {
      "cell_type": "code",
      "execution_count": 20,
      "source": [
        "### 99-100 percentile\n",
        "for i in range(10,110,10):\n",
        "    print(99+(i/100),'percentile value is',np.percentile(indegree_dist,99+(i/100)))"
      ],
      "outputs": [
        {
          "output_type": "stream",
          "name": "stdout",
          "text": [
            "99.1 percentile value is 42.0\n",
            "99.2 percentile value is 44.0\n",
            "99.3 percentile value is 47.0\n",
            "99.4 percentile value is 50.0\n",
            "99.5 percentile value is 55.0\n",
            "99.6 percentile value is 61.0\n",
            "99.7 percentile value is 70.0\n",
            "99.8 percentile value is 84.0\n",
            "99.9 percentile value is 112.0\n",
            "100.0 percentile value is 552.0\n"
          ]
        }
      ],
      "metadata": {
        "id": "mt8DA-MmX7Jg",
        "colab": {
          "base_uri": "https://localhost:8080/"
        },
        "outputId": "4a454ab8-2d66-412c-e605-2db7917fa3cc"
      }
    },
    {
      "cell_type": "code",
      "execution_count": 21,
      "source": [
        "%matplotlib inline\n",
        "\n",
        "sns.set_style('ticks')\n",
        "\n",
        "fig, ax = plt.subplots()\n",
        "fig.set_size_inches(9.8, 6.27)\n",
        "\n",
        "sns.distplot(indegree_dist, color = '#16A085') # distribution plot to check the distribution of indegree.\n",
        "\n",
        "plt.xlabel('PDF of Indegree')\n",
        "sns.despine()\n",
        "\n",
        "plt.show()"
      ],
      "outputs": [
        {
          "output_type": "display_data",
          "data": {
            "image/png": "[encoded data removed]",
            "text/plain": [
              "<Figure size 705.6x451.44 with 1 Axes>"
            ]
          },
          "metadata": {}
        }
      ],
      "metadata": {
        "id": "hZQed_RqX7Jk",
        "colab": {
          "base_uri": "https://localhost:8080/",
          "height": 403
        },
        "outputId": "13f78793-edb2-4415-8887-d2af73aee460"
      }
    },
    {
      "cell_type": "markdown",
      "source": [
        "## 1.2 No of people each person is following"
      ],
      "metadata": {
        "id": "F_rfNRYCX7Jx"
      }
    },
    {
      "cell_type": "code",
      "execution_count": 22,
      "source": [
        "outdegree_dist = list(dict(g.out_degree()).values())\n",
        "\n",
        "outdegree_dist.sort()\n",
        "\n",
        "plt.figure(figsize=(10,6))\n",
        "plt.plot(outdegree_dist)\n",
        "\n",
        "plt.xlabel('Index No')\n",
        "plt.ylabel('No Of people each person is following')\n",
        "\n",
        "plt.show()"
      ],
      "outputs": [
        {
          "output_type": "display_data",
          "data": {
            "image/png": "[encoded data removed]",
            "text/plain": [
              "<Figure size 720x432 with 1 Axes>"
            ]
          },
          "metadata": {}
        }
      ],
      "metadata": {
        "id": "L-2plpMuX7Jy",
        "colab": {
          "base_uri": "https://localhost:8080/",
          "height": 388
        },
        "outputId": "3f570a61-d82f-4595-878e-fcb0a3d56b8f"
      }
    },
    {
      "cell_type": "code",
      "execution_count": 23,
      "source": [
        "indegree_dist = list(dict(g.in_degree()).values())\n",
        "\n",
        "indegree_dist.sort()\n",
        "\n",
        "plt.figure(figsize=(10,6))\n",
        "plt.plot(outdegree_dist[0:1500000])\n",
        "\n",
        "plt.xlabel('Index No')\n",
        "plt.ylabel('No Of people each person is following')\n",
        "\n",
        "plt.show()"
      ],
      "outputs": [
        {
          "output_type": "display_data",
          "data": {
            "image/png": "[encoded data removed]",
            "text/plain": [
              "<Figure size 720x432 with 1 Axes>"
            ]
          },
          "metadata": {}
        }
      ],
      "metadata": {
        "id": "aNaQeE5cX7J2",
        "colab": {
          "base_uri": "https://localhost:8080/",
          "height": 388
        },
        "outputId": "578448d8-67a8-4a37-e4c8-cb5aa30cb347"
      }
    },
    {
      "cell_type": "code",
      "execution_count": 24,
      "source": [
        "plt.boxplot(indegree_dist)\n",
        "plt.ylabel('No Of people each person is following')\n",
        "\n",
        "plt.show()"
      ],
      "outputs": [
        {
          "output_type": "display_data",
          "data": {
            "image/png": "[encoded data removed]",
            "text/plain": [
              "<Figure size 432x288 with 1 Axes>"
            ]
          },
          "metadata": {}
        }
      ],
      "metadata": {
        "id": "HVYdHvLAX7J7",
        "colab": {
          "base_uri": "https://localhost:8080/",
          "height": 265
        },
        "outputId": "ed10edaa-3a29-410b-9585-c1f7a18f1493"
      }
    },
    {
      "cell_type": "markdown",
      "source": [
        "* Not Many users are following more than 500 users."
      ],
      "metadata": {
        "id": "Piy6XYfUXgeq"
      }
    },
    {
      "cell_type": "code",
      "execution_count": 25,
      "source": [
        "### 90-100 percentile\n",
        "for i in range(0,11):\n",
        "    print(90+i,'percentile value is',np.percentile(outdegree_dist,90+i))"
      ],
      "outputs": [
        {
          "output_type": "stream",
          "name": "stdout",
          "text": [
            "90 percentile value is 12.0\n",
            "91 percentile value is 13.0\n",
            "92 percentile value is 14.0\n",
            "93 percentile value is 15.0\n",
            "94 percentile value is 17.0\n",
            "95 percentile value is 19.0\n",
            "96 percentile value is 21.0\n",
            "97 percentile value is 24.0\n",
            "98 percentile value is 29.0\n",
            "99 percentile value is 40.0\n",
            "100 percentile value is 1566.0\n"
          ]
        }
      ],
      "metadata": {
        "id": "FVGmz09xX7KB",
        "colab": {
          "base_uri": "https://localhost:8080/"
        },
        "outputId": "99931137-c39f-46c2-fab2-884a5210889e"
      }
    },
    {
      "cell_type": "code",
      "execution_count": 26,
      "source": [
        "### 99-100 percentile\n",
        "\n",
        "for i in range(10,110,10):\n",
        "    print(99 + (i/100),'percentile value is',np.percentile(outdegree_dist,99+(i/100)))"
      ],
      "outputs": [
        {
          "output_type": "stream",
          "name": "stdout",
          "text": [
            "99.1 percentile value is 42.0\n",
            "99.2 percentile value is 45.0\n",
            "99.3 percentile value is 48.0\n",
            "99.4 percentile value is 52.0\n",
            "99.5 percentile value is 56.0\n",
            "99.6 percentile value is 63.0\n",
            "99.7 percentile value is 73.0\n",
            "99.8 percentile value is 90.0\n",
            "99.9 percentile value is 123.0\n",
            "100.0 percentile value is 1566.0\n"
          ]
        }
      ],
      "metadata": {
        "id": "zcNoTvuzX7KF",
        "colab": {
          "base_uri": "https://localhost:8080/"
        },
        "outputId": "01800481-0762-4cca-e13d-b6c1847d7479"
      }
    },
    {
      "cell_type": "code",
      "execution_count": 27,
      "source": [
        "sns.set_style('ticks')\n",
        "\n",
        "fig, ax = plt.subplots()\n",
        "fig.set_size_inches(8.6, 5.99)\n",
        "\n",
        "sns.distplot(outdegree_dist, color='#16A085')\n",
        "\n",
        "plt.xlabel('PDF of Outdegree')\n",
        "sns.despine()"
      ],
      "outputs": [
        {
          "output_type": "display_data",
          "data": {
            "image/png": "[encoded data removed]",
            "text/plain": [
              "<Figure size 619.2x431.28 with 1 Axes>"
            ]
          },
          "metadata": {}
        }
      ],
      "metadata": {
        "id": "27t51jOjX7KK",
        "colab": {
          "base_uri": "https://localhost:8080/",
          "height": 388
        },
        "outputId": "5094aaed-3337-411f-bb82-a4ed7e7a782d"
      }
    },
    {
      "cell_type": "code",
      "execution_count": 28,
      "source": [
        "print('No of persons those are not following anyone are' ,sum(np.array(outdegree_dist)==0),'and % is',\n",
        "                                sum(np.array(outdegree_dist)==0)*100/len(outdegree_dist) )"
      ],
      "outputs": [
        {
          "output_type": "stream",
          "name": "stdout",
          "text": [
            "No of persons those are not following anyone are 274512 and % is 14.741115442858524\n"
          ]
        }
      ],
      "metadata": {
        "id": "9LOGY_CyX7KT",
        "colab": {
          "base_uri": "https://localhost:8080/"
        },
        "outputId": "1bb4c184-56b7-4404-a1e0-be9931ed6e93"
      }
    },
    {
      "cell_type": "code",
      "execution_count": 29,
      "source": [
        "print('No of persons having zero followers are' ,sum(np.array(indegree_dist)==0),'and % is',\n",
        "                                sum(np.array(indegree_dist)==0)*100/len(indegree_dist) )"
      ],
      "outputs": [
        {
          "output_type": "stream",
          "name": "stdout",
          "text": [
            "No of persons having zero followers are 188043 and % is 10.097786512871734\n"
          ]
        }
      ],
      "metadata": {
        "id": "hi30e3RmX7KX",
        "colab": {
          "base_uri": "https://localhost:8080/"
        },
        "outputId": "ec2c4643-5f57-424d-e4dc-f6a607d5ee8e"
      }
    },
    {
      "cell_type": "code",
      "execution_count": 30,
      "source": [
        "count = 0\n",
        "\n",
        "for i in g.nodes(): # g.nodes() will return total number of nodes\n",
        "\n",
        "    if len(list(g.predecessors(i))) == 0 : # g.predecessors() will give all the followers of a node.\n",
        "\n",
        "        if len(list(g.successors(i))) == 0: # g.successors() will return all the folloeing of a node.\n",
        "            count += 1\n",
        "\n",
        "print('No of persons those are not not following anyone and also not having any followers are',count)"
      ],
      "outputs": [
        {
          "output_type": "stream",
          "name": "stdout",
          "text": [
            "No of persons those are not not following anyone and also not having any followers are 0\n"
          ]
        }
      ],
      "metadata": {
        "id": "rzX8vbh5X7Kc",
        "colab": {
          "base_uri": "https://localhost:8080/"
        },
        "outputId": "0181e28e-f992-4049-afe0-a4d6e90aa849"
      }
    },
    {
      "cell_type": "markdown",
      "source": [
        "## 1.3 both followers + following "
      ],
      "metadata": {
        "id": "J7tiBqS3X7Kh"
      }
    },
    {
      "cell_type": "code",
      "source": [
        "from collections import Counter\n",
        "\n",
        "dx1 = {'U' : 1, 'V' : 2,'W'  : 3, 'X' : 4}\n",
        "a = Counter(dx1)\n",
        " \n",
        "for i in a.elements():\n",
        "    print ( i, end = \" \")\n",
        "\n",
        "print(\" \")\n",
        "\n",
        "dx2 = {'U' : 4, 'V' : 3,'W'  : 2, 'X' : 1}\n",
        "b = Counter(dx2)\n",
        "\n",
        "for i in b.elements():\n",
        "    print ( i, end = \" \")\n",
        "\n",
        "\n",
        "d = Counter(dx1) + Counter(dx2)\n",
        "\n",
        "print(np.array(list(d.values()))) # will print number of times each node is present "
      ],
      "metadata": {
        "id": "ddatTcojpkxk",
        "outputId": "4a21068d-c658-4fb5-bfaa-319dd5285aab",
        "colab": {
          "base_uri": "https://localhost:8080/"
        }
      },
      "execution_count": 31,
      "outputs": [
        {
          "output_type": "stream",
          "name": "stdout",
          "text": [
            "U V V W W W X X X X  \n",
            "U U U U V V V W W X [5 5 5 5]\n"
          ]
        }
      ]
    },
    {
      "cell_type": "code",
      "execution_count": 32,
      "source": [
        "from collections import Counter\n",
        "\n",
        "dict_in  = dict(g.in_degree())\n",
        "dict_out = dict(g.out_degree())\n",
        "\n",
        "d = Counter(dict_in) + Counter(dict_out)\n",
        "\n",
        "in_out_degree = np.array(list(d.values()))"
      ],
      "outputs": [],
      "metadata": {
        "id": "MNu7k3-FX7Kj"
      }
    },
    {
      "cell_type": "code",
      "execution_count": 33,
      "source": [
        "in_out_degree_sort = sorted(in_out_degree)\n",
        "\n",
        "plt.figure(figsize=(10,6))\n",
        "plt.plot(in_out_degree_sort)\n",
        "\n",
        "plt.xlabel('Index No')\n",
        "plt.ylabel('No Of people each person is following + followers')\n",
        "\n",
        "plt.show()"
      ],
      "outputs": [
        {
          "output_type": "display_data",
          "data": {
            "image/png": "[encoded data removed]",
            "text/plain": [
              "<Figure size 720x432 with 1 Axes>"
            ]
          },
          "metadata": {}
        }
      ],
      "metadata": {
        "id": "ARCqfS9TX7Kn",
        "colab": {
          "base_uri": "https://localhost:8080/",
          "height": 388
        },
        "outputId": "68708d9c-05d2-432d-8842-d288b336e771"
      }
    },
    {
      "cell_type": "code",
      "execution_count": 34,
      "source": [
        "in_out_degree_sort = sorted(in_out_degree)\n",
        "\n",
        "plt.figure(figsize=(10,6))\n",
        "plt.plot(in_out_degree_sort[0:1500000])\n",
        "\n",
        "plt.xlabel('Index No')\n",
        "plt.ylabel('No Of people each person is following + followers')\n",
        "\n",
        "plt.show()"
      ],
      "outputs": [
        {
          "output_type": "display_data",
          "data": {
            "image/png": "[encoded data removed]",
            "text/plain": [
              "<Figure size 720x432 with 1 Axes>"
            ]
          },
          "metadata": {}
        }
      ],
      "metadata": {
        "id": "jVlgsM8hX7Ku",
        "colab": {
          "base_uri": "https://localhost:8080/",
          "height": 388
        },
        "outputId": "5afa936a-a57e-46a9-ffcf-6eebc07115b4"
      }
    },
    {
      "cell_type": "code",
      "execution_count": 35,
      "source": [
        "### 90-100 percentile\n",
        "for i in range(0,11):\n",
        "    print(90+i,'percentile value is',np.percentile(in_out_degree_sort,90+i))"
      ],
      "outputs": [
        {
          "output_type": "stream",
          "name": "stdout",
          "text": [
            "90 percentile value is 24.0\n",
            "91 percentile value is 26.0\n",
            "92 percentile value is 28.0\n",
            "93 percentile value is 31.0\n",
            "94 percentile value is 33.0\n",
            "95 percentile value is 37.0\n",
            "96 percentile value is 41.0\n",
            "97 percentile value is 48.0\n",
            "98 percentile value is 58.0\n",
            "99 percentile value is 79.0\n",
            "100 percentile value is 1579.0\n"
          ]
        }
      ],
      "metadata": {
        "id": "4YpW20YEX7Kz",
        "colab": {
          "base_uri": "https://localhost:8080/"
        },
        "outputId": "4d32bd5f-79ce-4644-ca08-ba5c0e1e4f7f"
      }
    },
    {
      "cell_type": "code",
      "execution_count": 36,
      "source": [
        "### 99-100 percentile\n",
        "for i in range(10,110,10):\n",
        "    print(99+(i/100),'percentile value is',np.percentile(in_out_degree_sort,99+(i/100)))"
      ],
      "outputs": [
        {
          "output_type": "stream",
          "name": "stdout",
          "text": [
            "99.1 percentile value is 83.0\n",
            "99.2 percentile value is 87.0\n",
            "99.3 percentile value is 93.0\n",
            "99.4 percentile value is 99.0\n",
            "99.5 percentile value is 108.0\n",
            "99.6 percentile value is 120.0\n",
            "99.7 percentile value is 138.0\n",
            "99.8 percentile value is 168.0\n",
            "99.9 percentile value is 221.0\n",
            "100.0 percentile value is 1579.0\n"
          ]
        }
      ],
      "metadata": {
        "id": "LclmrhGbX7K3",
        "colab": {
          "base_uri": "https://localhost:8080/"
        },
        "outputId": "039bd65c-bf42-4b11-c41d-fbd8e5429167"
      }
    },
    {
      "cell_type": "code",
      "execution_count": 37,
      "source": [
        "print('Min of no of followers + following is',in_out_degree.min())\n",
        "print(np.sum(in_out_degree==in_out_degree.min()),' Number of persons having minimum no of followers + following')"
      ],
      "outputs": [
        {
          "output_type": "stream",
          "name": "stdout",
          "text": [
            "Min of no of followers + following is 1\n",
            "334291  Number of persons having minimum no of followers + following\n"
          ]
        }
      ],
      "metadata": {
        "id": "XqErF9SRX7K8",
        "colab": {
          "base_uri": "https://localhost:8080/"
        },
        "outputId": "437db699-2a65-4eff-9d9b-601c5f66c929"
      }
    },
    {
      "cell_type": "code",
      "execution_count": 38,
      "source": [
        "print('Max of no of followers + following is',in_out_degree.max())\n",
        "print(np.sum(in_out_degree==in_out_degree.max()),' persons having maximum no of followers + following')"
      ],
      "outputs": [
        {
          "output_type": "stream",
          "name": "stdout",
          "text": [
            "Max of no of followers + following is 1579\n",
            "1  persons having maximum no of followers + following\n"
          ]
        }
      ],
      "metadata": {
        "id": "4rjy0p8-X7LA",
        "colab": {
          "base_uri": "https://localhost:8080/"
        },
        "outputId": "2f0d9847-1001-40b0-80c8-a14b7bf80f64"
      }
    },
    {
      "cell_type": "code",
      "execution_count": 39,
      "source": [
        "print('No of persons having followers + following less than 10 are',np.sum( in_out_degree < 10))"
      ],
      "outputs": [
        {
          "output_type": "stream",
          "name": "stdout",
          "text": [
            "No of persons having followers + following less than 10 are 1320326\n"
          ]
        }
      ],
      "metadata": {
        "id": "2vkQHuVgX7LE",
        "colab": {
          "base_uri": "https://localhost:8080/"
        },
        "outputId": "5b3bc7b9-f446-4c14-98e2-c57a777d1340"
      }
    },
    {
      "cell_type": "code",
      "execution_count": 40,
      "source": [
        "print('No of weakly connected components',len( list(nx.weakly_connected_components(g))) )\n",
        "count = 0\n",
        "\n",
        "for i in list(nx.weakly_connected_components(g)):\n",
        "    if len(i) == 2:\n",
        "        count +=1\n",
        "print('weakly connected components with 2 nodes',count)"
      ],
      "outputs": [
        {
          "output_type": "stream",
          "name": "stdout",
          "text": [
            "No of weakly connected components 45558\n",
            "weakly connected components with 2 nodes 32195\n"
          ]
        }
      ],
      "metadata": {
        "id": "9YXunWI-X7LI",
        "colab": {
          "base_uri": "https://localhost:8080/"
        },
        "outputId": "5f5fedca-3fe6-4982-af41-a7e4bd68ecf5"
      }
    },
    {
      "cell_type": "markdown",
      "source": [
        "# 2. Posing a problem as classification problem "
      ],
      "metadata": {
        "id": "RiPVIlFUX7LQ"
      }
    },
    {
      "cell_type": "markdown",
      "source": [
        "## 2.1 Generating some edges which are not present in graph for supervised learning  \n",
        "\n",
        "* In our dataset only those entries are present which has edge between them hence those can be labeled as 1 but what about the edges that are not present ?\n",
        "\n",
        "* Hence we have to generated some Bad links from graph which are not in graph and whose shortest path is greater than as if distance is 2 then it implies User U is mutual friend of user V.\n",
        "\n",
        "* Only taking the vertices whose shortest distance > 2, The reason being there is very high chance that user ui will follow user uj if they are mutual friends. but if we have shortest distance greater than 2 then probability of following each other is quite low.\n",
        "\n",
        "\n"
      ],
      "metadata": {
        "id": "TpDCmJroX7LS"
      }
    },
    {
      "cell_type": "markdown",
      "source": [
        "https://stackoverflow.com/questions/36928958/difference-in-csv-reader-and-pandas-python\n",
        "\n",
        "https://www.programiz.com/python-programming/reading-csv-files\n",
        "\n",
        "https://stackoverflow.com/questions/11041405/why-dict-getkey-instead-of-dictkey"
      ],
      "metadata": {
        "id": "-HKL0auJ9qT2"
      }
    },
    {
      "cell_type": "code",
      "execution_count": 42,
      "source": [
        "%%time\n",
        "\n",
        "# generating bad edges from given graph\n",
        "\n",
        "import random\n",
        "\n",
        "if not os.path.isfile('/content/drive/MyDrive/Case Studies/Facebook/data/after_eda/missing_edges_final.p'):\n",
        "    # getting all set of edges\n",
        "\n",
        "    r = csv.reader(open('/content/drive/MyDrive/Case Studies/Facebook/data/after_eda/train_woheader.csv','r'))\n",
        "    edges = dict()\n",
        "\n",
        "    for edge in r: # if entry is present in dataset then it means edge is present between the two vertices.\n",
        "        edges[(edge[0], edge[1])] = 1 # Hence assigning a value of 1 in those entries.\n",
        "        \n",
        "        \n",
        "    missing_edges = set([])\n",
        "    while (len(missing_edges) < 9437519): # we want number of bad edges == number of good edges. \n",
        "                                        # so that we have balanced dataset.\n",
        "\n",
        "        a = random.randint(1, 1862220)   # generating the random vertex in a given range till while loop is terminated.\n",
        "        b = random.randint(1, 1862220)\n",
        "\n",
        "        tmp = edges.get((a,b),-1) # edges.get() will return 1 if edge is present else it will return default value(-1 here).\n",
        "\n",
        "        if tmp == -1 and a!=b: # it will run if there is no edge between two vertices and both vertices are different.\n",
        "\n",
        "            try: # it will execute if there is path between two randomly generated vertices.\n",
        "                if nx.shortest_path_length(g,source = a,target = b) > 2: \n",
        "                    missing_edges.add((a,b))\n",
        "\n",
        "                else: # else generate the next set of random vertices.\n",
        "                    continue  \n",
        "            \n",
        "            except: # This will execute there is not any path between two randomly generated vertices which implies\n",
        "                              # we do not even need to check the shortest distance also as there is no path to begin with  \n",
        "                    missing_edges.add((a,b))              \n",
        "        else: # exeucte if randomly generated nodes already had edge between them\n",
        "            continue\n",
        "\n",
        "    pickle.dump(missing_edges,open('/content/drive/MyDrive/Case Studies/Facebook/data/after_eda/missing_edges_final.p','wb'))\n",
        "\n",
        "else:\n",
        "  missing_edges = pickle.load(open('/content/drive/MyDrive/Case Studies/Facebook/data/after_eda/missing_edges_final.p','rb'))\n",
        "\n",
        "print(len(missing_edges))"
      ],
      "outputs": [
        {
          "output_type": "stream",
          "name": "stdout",
          "text": [
            "9437519\n",
            "CPU times: user 2.09 s, sys: 1.05 s, total: 3.15 s\n",
            "Wall time: 4.08 s\n"
          ]
        }
      ],
      "metadata": {
        "id": "3K2YQD6ZX7LT",
        "colab": {
          "base_uri": "https://localhost:8080/"
        },
        "outputId": "acf18e05-0c55-40f3-808d-318037403753"
      }
    },
    {
      "cell_type": "markdown",
      "source": [
        "<h3> Pickling </h3>\n",
        "    \n",
        "https://www.datacamp.com/community/tutorials/pickle-python-tutorial"
      ],
      "metadata": {
        "id": "C2dtBcDJWIlU"
      }
    },
    {
      "cell_type": "markdown",
      "source": [
        "## 2.2 Training and Test data split:  \n",
        "Removed edges from Graph and used as test data and after removing used that graph for creating features for Train and test data"
      ],
      "metadata": {
        "id": "LA2GGc3lX7Lb"
      }
    },
    {
      "cell_type": "code",
      "execution_count": 7,
      "source": [
        "from sklearn.model_selection import train_test_split\n",
        "\n",
        "if (not os.path.isfile('/content/drive/MyDrive/Case Studies/Facebook/data/after_eda/train_pos_after_eda.csv')) and (not os.path.isfile('/content/drive/MyDrive/Case Studies/Facebook/data/after_eda/test_pos_after_eda.csv')):\n",
        "    \n",
        "    # reading total data df\n",
        "    df_pos = pd.read_csv('/content/drive/MyDrive/Case Studies/Facebook/data/train.csv') # dataset contains only +ve edges \n",
        "    df_neg = pd.DataFrame(list(missing_edges), columns = ['source_node', 'destination_node']) # making DataFrame of -ve edges\n",
        "    \n",
        "    print(\"Number of nodes in the graph with edges\",    df_pos.shape[0])\n",
        "    print(\"Number of nodes in the graph without edges\", df_neg.shape[0])\n",
        "    \n",
        "    # Train test split \n",
        "    # Spiltted data into 80-20 \n",
        "    # positive links and negative links seperatly because we need positive training data only for creating graph and for feature generation\n",
        "\n",
        "    X_train_pos, X_test_pos, y_train_pos, y_test_pos  = train_test_split(df_pos,np.ones(len(df_pos)),test_size=0.2, random_state=9)\n",
        "    X_train_neg, X_test_neg, y_train_neg, y_test_neg  = train_test_split(df_neg,np.zeros(len(df_neg)),test_size=0.2, random_state=9)\n",
        "    \n",
        "    print('='*60)\n",
        "    print(\"Number of nodes in the train data graph with edges\",    X_train_pos.shape[0],\"=\",y_train_pos.shape[0])\n",
        "    print(\"Number of nodes in the train data graph without edges\", X_train_neg.shape[0],\"=\", y_train_neg.shape[0])\n",
        "\n",
        "    print('='*60)\n",
        "    print(\"Number of nodes in the test data graph with edges\",    X_test_pos.shape[0],\"=\",y_test_pos.shape[0])\n",
        "    print(\"Number of nodes in the test data graph without edges\", X_test_neg.shape[0],\"=\",y_test_neg.shape[0])\n",
        "\n",
        "    # removing header and saving\n",
        "\n",
        "    X_train_pos.to_csv('/content/drive/MyDrive/Case Studies/Facebook/data/after_eda/train_pos_after_eda.csv',header=False, index=False)\n",
        "    X_test_pos.to_csv('/content/drive/MyDrive/Case Studies/Facebook/data/after_eda/test_pos_after_eda.csv',  header=False, index=False)\n",
        "    X_train_neg.to_csv('/content/drive/MyDrive/Case Studies/Facebook/data/after_eda/train_neg_after_eda.csv',header=False, index=False)\n",
        "    X_test_neg.to_csv('/content/drive/MyDrive/Case Studies/Facebook/data/after_eda/test_neg_after_eda.csv',  header=False, index=False)\n",
        "\n",
        "else:\n",
        "    # Graph from Training data only \n",
        "    del missing_edges"
      ],
      "outputs": [],
      "metadata": {
        "id": "hmcOk-nkX7Lb"
      }
    },
    {
      "cell_type": "code",
      "execution_count": 6,
      "source": [
        "%%time\n",
        "# around 1 min 47 sec.\n",
        "if (os.path.isfile('/content/drive/MyDrive/Case Studies/Facebook/data/after_eda/train_pos_after_eda.csv')) and (os.path.isfile('/content/drive/MyDrive/Case Studies/Facebook/data/after_eda/test_pos_after_eda.csv')):    \n",
        "\n",
        "    train_graph = nx.read_edgelist('/content/drive/MyDrive/Case Studies/Facebook/data/after_eda/train_pos_after_eda.csv',delimiter=',',create_using = nx.DiGraph(),nodetype = int)\n",
        "    test_graph  = nx.read_edgelist('/content/drive/MyDrive/Case Studies/Facebook/data/after_eda/test_pos_after_eda.csv', delimiter=',',create_using = nx.DiGraph(),nodetype = int)\n",
        "  \n",
        "    print(nx.info(train_graph))\n",
        "    print(nx.info(test_graph))\n",
        "\n",
        "    # finding the unique nodes in the both train and test graphs\n",
        "\n",
        "    train_nodes_pos = set(train_graph.nodes())\n",
        "    test_nodes_pos  = set(test_graph.nodes())\n",
        "\n",
        "    trY_teY = len(train_nodes_pos.intersection(test_nodes_pos))\n",
        "    trY_teN = len(train_nodes_pos - test_nodes_pos)\n",
        "    teY_trN = len(test_nodes_pos  - train_nodes_pos)\n",
        "\n",
        "    print('no of people common in train and test -- ',trY_teY)\n",
        "    print('no of people present in train but not present in test -- ',trY_teN)\n",
        "    print('no of people present in test but not present in train -- ',teY_trN)\n",
        "    \n",
        "    print(' % of people not there in Train but exist in Test in total Test data are {} %'.format(teY_trN/len(test_nodes_pos)*100))"
      ],
      "outputs": [
        {
          "output_type": "stream",
          "name": "stdout",
          "text": [
            "DiGraph with 1780722 nodes and 7550015 edges\n",
            "DiGraph with 1144623 nodes and 1887504 edges\n",
            "no of people common in train and test --  1063125\n",
            "no of people present in train but not present in test --  717597\n",
            "no of people present in test but not present in train --  81498\n",
            " % of people not there in Train but exist in Test in total Test data are 7.1200735962845405 %\n",
            "CPU times: user 1min 22s, sys: 4.02 s, total: 1min 26s\n",
            "Wall time: 1min 27s\n"
          ]
        }
      ],
      "metadata": {
        "id": "Wj9OwIX6X7Lh",
        "colab": {
          "base_uri": "https://localhost:8080/"
        },
        "outputId": "3c3e8b1a-5241-418d-89ac-2aaf08672abd"
      }
    },
    {
      "cell_type": "markdown",
      "source": [
        "> we have a cold start problem here"
      ],
      "metadata": {
        "id": "OhpyrSuiX7Ll"
      }
    },
    {
      "cell_type": "code",
      "execution_count": null,
      "source": [
        "# final train and test data sets\n",
        "\n",
        "if (not os.path.isfile('/content/drive/MyDrive/data/after_eda/train_after_eda.csv')) and \\\n",
        "(not os.path.isfile('/content/drive/MyDrive/data/after_eda/test_after_eda.csv')) and \\\n",
        "(not os.path.isfile('/content/drive/MyDrive/data/train_y.csv')) and \\\n",
        "(not os.path.isfile('/content/drive/MyDrive/data/test_y.csv')) and \\\n",
        "(os.path.isfile('/content/drive/MyDrive/data/after_eda/train_pos_after_eda.csv')) and \\\n",
        "(os.path.isfile('/content/drive/MyDrive/data/after_eda/test_pos_after_eda.csv')) and \\\n",
        "(os.path.isfile('/content/drive/MyDrive/data/after_eda/train_neg_after_eda.csv')) and \\\n",
        "(os.path.isfile('/content/drive/MyDrive/data/after_eda/test_neg_after_eda.csv')):\n",
        "    \n",
        "    X_train_pos = pd.read_csv('/content/drive/MyDrive/data/after_eda/train_pos_after_eda.csv',  names=['source_node', 'destination_node'])\n",
        "    X_test_pos  = pd.read_csv('/content/drive/MyDrive/data/after_eda/test_pos_after_eda.csv',   names=['source_node', 'destination_node'])\n",
        "    X_train_neg = pd.read_csv('/content/drive/MyDrive/data/after_eda/train_neg_after_eda.csv',  names=['source_node', 'destination_node'])\n",
        "    X_test_neg  = pd.read_csv('/content/drive/MyDrive/data/after_eda/test_neg_after_eda.csv',   names=['source_node', 'destination_node'])\n",
        "\n",
        "    print('='*60)\n",
        "    print(\"Number of nodes in the train data graph with edges\", X_train_pos.shape[0])\n",
        "    print(\"Number of nodes in the train data graph without edges\", X_train_neg.shape[0])\n",
        "\n",
        "    print('='*60)\n",
        "    print(\"Number of nodes in the test data graph with edges\", X_test_pos.shape[0])\n",
        "    print(\"Number of nodes in the test data graph without edges\", X_test_neg.shape[0])\n",
        "\n",
        "    X_train = X_train_pos.append(X_train_neg,ignore_index=True) # using Pandas.\n",
        "    y_train = np.concatenate((y_train_pos,y_train_neg))         # using Numpy .\n",
        "\n",
        "    X_test = X_test_pos.append(X_test_neg,ignore_index=True)\n",
        "    y_test = np.concatenate((y_test_pos,y_test_neg)) \n",
        "    \n",
        "    X_train.to_csv('/content/drive/MyDrive/data/after_eda/train_after_eda.csv',header=False,index=False)\n",
        "    X_test.to_csv('/content/drive/MyDrive/data/after_eda/test_after_eda.csv',header=False,index=False)\n",
        "\n",
        "    pd.DataFrame(y_train.astype(int)).to_csv('data/train_y.csv',header=False,index=False)\n",
        "    pd.DataFrame(y_test.astype(int)).to_csv('data/test_y.csv',header=False,index=False)"
      ],
      "outputs": [
        {
          "output_type": "stream",
          "name": "stdout",
          "text": [
            "============================================================\n",
            "Number of nodes in the train data graph with edges 7550015\n",
            "Number of nodes in the train data graph without edges 7550015\n",
            "============================================================\n",
            "Number of nodes in the test data graph with edges 1887504\n",
            "Number of nodes in the test data graph without edges 1887504\n"
          ]
        }
      ],
      "metadata": {
        "id": "onultUqjX7Lm",
        "colab": {
          "base_uri": "https://localhost:8080/"
        },
        "outputId": "f4f2e2ac-40cf-4736-9f89-1f18119b61ae"
      }
    },
    {
      "cell_type": "code",
      "execution_count": null,
      "source": [
        "print(\"Data points in train data\",X_train.shape)\n",
        "print(\"Data points in test data\",X_test.shape)\n",
        "print(\"Shape of traget variable in train\",y_train.shape)\n",
        "print(\"Shape of traget variable in test\", y_test.shape)"
      ],
      "outputs": [
        {
          "output_type": "stream",
          "name": "stdout",
          "text": [
            "Data points in train data (15100030, 2)\n",
            "Data points in test data (3775008, 2)\n",
            "Shape of traget variable in train (15100030,)\n",
            "Shape of traget variable in test (3775008,)\n"
          ]
        }
      ],
      "metadata": {
        "id": "DB_sXaqZX7Lt",
        "colab": {
          "base_uri": "https://localhost:8080/"
        },
        "outputId": "14590df3-37dc-408a-9ec9-350f4d33895e"
      }
    }
  ]
}